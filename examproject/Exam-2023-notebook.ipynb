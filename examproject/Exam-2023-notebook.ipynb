{
 "cells": [
  {
   "attachments": {},
   "cell_type": "markdown",
   "metadata": {},
   "source": [
    "**Table of contents**<a id='toc0_'></a>    \n",
    "- 1. [Problem 1: Optimal taxation with government consumption](#toc1_)    \n",
    "- 2. [Problem 2: Labor adjustment costs](#toc2_)    \n",
    "- 3. [Problem 3: Global optimizer with refined multi-start](#toc3_)    \n",
    "\n",
    "<!-- vscode-jupyter-toc-config\n",
    "\tnumbering=true\n",
    "\tanchor=true\n",
    "\tflat=false\n",
    "\tminLevel=2\n",
    "\tmaxLevel=6\n",
    "\t/vscode-jupyter-toc-config -->\n",
    "<!-- THIS CELL WILL BE REPLACED ON TOC UPDATE. DO NOT WRITE YOUR TEXT IN THIS CELL -->"
   ]
  },
  {
   "cell_type": "code",
   "execution_count": 1,
   "metadata": {},
   "outputs": [],
   "source": [
    "# a. import packeges  \n",
    "import matplotlib.pyplot as plt\n",
    "import pandas as pd\n",
    "import numpy as np\n",
    "from scipy import optimize\n",
    "\n",
    "# b. autoreload modules when code is run\n",
    "%load_ext autoreload\n",
    "%autoreload 2\n",
    "\n",
    "# c. import the py-file \n",
    "from caro import labor\n",
    "from Problem3 import GoMs\n"
   ]
  },
  {
   "attachments": {},
   "cell_type": "markdown",
   "metadata": {},
   "source": [
    "## 1. <a id='toc1_'></a>[Problem 1: Optimal taxation with government consumption](#toc0_)"
   ]
  },
  {
   "attachments": {},
   "cell_type": "markdown",
   "metadata": {},
   "source": [
    "\n",
    "Consider a worker choosing hours of labor, $L\\in[0,24]$, to maximize utility: \n",
    "\n",
    "$$\n",
    "\\begin{align*}\n",
    "V(w,\\tau,G)&=\\max_{L\\in[0,24]}\\ln\\left(C^{\\alpha}G^{1-\\alpha}\\right)-\\nu\\frac{L^{2}}{2}\\\\&\\text{s.t.}\\\\&C=\\kappa+(1-\\tau)wL\n",
    "\\end{align*}\n",
    "$$\n",
    "\n",
    "where \n",
    "\n",
    "* $C$ is *private* consumption with weight $\\alpha\\in(0,1)$.\n",
    "* $\\kappa > 0$ is the *free private* consumption component.\n",
    "* $C = (1-\\tau)wL$ is the *costly private* consumption component.\n",
    "* $w > 0 $ is the real wage.\n",
    "* $\\tau \\in (0,1)$ is the labor-income tax rate.\n",
    "* $G > 0 $ is *government* consumption with weight $1-\\alpha$.\n",
    "* $\\nu > 0$ is the disutility of labor scaling factor"
   ]
  },
  {
   "attachments": {},
   "cell_type": "markdown",
   "metadata": {},
   "source": [
    "\n",
    "The baseline parameters are:\n",
    "\n",
    "$$\n",
    "\\begin{align*}\n",
    "\\alpha &= 0.5\\\\\n",
    "\\kappa &= 1.0\\\\\n",
    "\\nu &= \\frac{1}{2\\cdot16^2} \\\\\n",
    "w &= 1.0 \\\\ \n",
    "\\tau &= 0.30 \\\\\n",
    "\\end{align*}\n",
    "$$"
   ]
  },
  {
   "attachments": {},
   "cell_type": "markdown",
   "metadata": {},
   "source": [
    "**Question 1:** Verify that the optimal labor supply choice is $L^{\\star}(\\tilde{w}) =\\frac{-\\kappa+\\sqrt{\\kappa^{2}+4\\frac{\\alpha}{\\nu}\\tilde{w}^2}}{2\\tilde{w}}$, where $\\tilde{w} = (1-\\tau)w$, for $G\\in\\left\\{1.0 , 2.0\\right\\}$."
   ]
  },
  {
   "cell_type": "code",
   "execution_count": 404,
   "metadata": {},
   "outputs": [],
   "source": [
    "# write your code here"
   ]
  },
  {
   "attachments": {},
   "cell_type": "markdown",
   "metadata": {},
   "source": [
    "**Question 2:** Illustrate how $L^{\\star}(\\tilde{w})$ depends on $w$."
   ]
  },
  {
   "cell_type": "code",
   "execution_count": 405,
   "metadata": {},
   "outputs": [],
   "source": [
    "# write your code here"
   ]
  },
  {
   "attachments": {},
   "cell_type": "markdown",
   "metadata": {},
   "source": [
    "\n",
    "We now consider a government, who chooses $\\tau$ and spend all of the taxes on government consumption so:\n",
    "\n",
    "$$\n",
    "G = \\tau w L^{\\star}((1-\\tau)w)\n",
    "$$\n",
    "\n",
    "**Question 3:** Plot the implied $L$, $G$ and worker utility for a grid of $\\tau$-values.\n"
   ]
  },
  {
   "cell_type": "code",
   "execution_count": 406,
   "metadata": {},
   "outputs": [],
   "source": [
    "# write your code here"
   ]
  },
  {
   "attachments": {},
   "cell_type": "markdown",
   "metadata": {},
   "source": [
    "**Question 4:** Find the socially optimal tax rate $\\tau^{\\star}\\in(0,1)$ maximizing worker utility. Illustrate your result."
   ]
  },
  {
   "cell_type": "code",
   "execution_count": 407,
   "metadata": {},
   "outputs": [],
   "source": [
    "# write your code here"
   ]
  },
  {
   "attachments": {},
   "cell_type": "markdown",
   "metadata": {},
   "source": [
    "A more general preference formulation for the worker is:\n",
    "\n",
    "$$\n",
    "\\begin{align*}\n",
    "\\mathcal{V}(w,\\tau,G)&=\\max_{L\\in[0,24]}\\frac{\\left[ \\left( \\alpha C^{\\frac{\\sigma-1}{\\sigma}}+(1-\\alpha) G^{\\frac{\\sigma-1}{\\sigma}} \\right)^{\\frac{\\sigma}{1-\\sigma} }\\right]^{1-\\rho}-1}{1-\\rho}- \\nu\\frac{L^{1+\\varepsilon}}{1+\\varepsilon},\\,\\,\\,\\varepsilon,\\rho,\\sigma>0,\\,\\,\\,\\rho,\\sigma\\neq1\\\\&\\text{s.t.}\\\\&C=\\kappa+(1-\\tau)wL\n",
    "\\end{align*}    \n",
    "$$\n",
    "\n",
    "Optimal labor supply is now $L^{\\star}(\\tilde{w},G)$."
   ]
  },
  {
   "attachments": {},
   "cell_type": "markdown",
   "metadata": {},
   "source": [
    "Questions 5 and 6 must be answered with the general formulation, and for 2 different set of parameters:\n",
    "\n",
    "- Set 1:  $\\sigma = 1.001$, $\\rho = 1.001$ and $\\varepsilon = 1.0$.\n",
    "- Set 2:  $\\sigma = 1.5$, $\\rho = 1.5$ and $\\varepsilon = 1.0 $."
   ]
  },
  {
   "attachments": {},
   "cell_type": "markdown",
   "metadata": {},
   "source": [
    "**Question 5:** Find the $G$ that solves $G = \\tau w L^{\\star}((1-\\tau)w,G)$ using the $\\tau$ found in question 4.\n",
    "\n",
    "*Hint: First write code that solves the worker problem for given values of $G$ and $\\tau$. Then find the correct G based on this.*"
   ]
  },
  {
   "cell_type": "code",
   "execution_count": 408,
   "metadata": {},
   "outputs": [],
   "source": [
    "# write your code here"
   ]
  },
  {
   "attachments": {},
   "cell_type": "markdown",
   "metadata": {},
   "source": [
    "**Question 6:** Find the socially optimal tax rate, $\\tau^{\\star}$, maximizing worker utility, while keeping $G = \\tau w L^{\\star}((1-\\tau)w,G)$."
   ]
  },
  {
   "cell_type": "code",
   "execution_count": 409,
   "metadata": {},
   "outputs": [],
   "source": [
    "# write your code here  "
   ]
  },
  {
   "attachments": {},
   "cell_type": "markdown",
   "metadata": {},
   "source": [
    "## 2. <a id='toc2_'></a>[Problem 2: Labor adjustment costs](#toc0_)"
   ]
  },
  {
   "attachments": {},
   "cell_type": "markdown",
   "metadata": {},
   "source": [
    "You own a hair salon. You employ hairdressers, $\\ell_t$, to produce haircuts, $y_t = \\ell_t$.\n",
    "\n",
    "The wage for each haridresser is $w$.\n",
    "\n",
    "The demand for haircuts implies that the price of haircuts you can charge is $p_t = \\kappa_t y_t^{-\\eta}$, where $\\kappa_t$ is a demand-shock and $\\eta \\in (0,1)$ measures the elasticity of demand.\n",
    "\n",
    "Profits are:\n",
    "\n",
    "$$\n",
    "\\Pi_t = p_t y_t - w \\ell_t = \\kappa_t \\ell_t^{1-\\eta} - w \\ell_t\n",
    "$$"
   ]
  },
  {
   "attachments": {},
   "cell_type": "markdown",
   "metadata": {},
   "source": [
    "Baseline parameters are:\n",
    "- $\\eta = 0.5$\n",
    "- $w = 1.0$"
   ]
  },
  {
   "attachments": {},
   "cell_type": "markdown",
   "metadata": {},
   "source": [
    "**Question 1:** Verify numerically that $\\ell_{t}=\\left(\\frac{(1-\\eta)\\kappa_{t}}{w}\\right)^{\\frac{1}{\\eta}}$ maximises profits, for $\\kappa\\in\\left\\{1.0 , 2.0\\right\\}$."
   ]
  },
  {
   "cell_type": "code",
   "execution_count": 453,
   "metadata": {},
   "outputs": [],
   "source": [
    "# a. Load in class\n",
    "l_model = labor()"
   ]
  },
  {
   "attachments": {},
   "cell_type": "markdown",
   "metadata": {},
   "source": [
    "We use the given equation to calculate the value   of the optimal $\\ell_{t}$ for the 2 values of $\\kappa$.\n",
    "Afterwards we use an optimizer to find the values $\\ell_{t}$ which maximizes the given utility function numerically. We then compare the two results."
   ]
  },
  {
   "cell_type": "code",
   "execution_count": 454,
   "metadata": {},
   "outputs": [
    {
     "name": "stdout",
     "output_type": "stream",
     "text": [
      "For kappa = 1.0\n",
      "Estimated L = 0.25\n",
      "Calculated L = 0.25\n",
      "For kappa = 2.0\n",
      "Estimated L = 1.0\n",
      "Calculated L = 1.0\n"
     ]
    }
   ],
   "source": [
    "# a. create starting values\n",
    "k_vec = np.linspace(1,2,2)\n",
    "guess = 1\n",
    "par = l_model.par\n",
    "# b. loop through values of kappa\n",
    "for k in k_vec: \n",
    "    # i. caluclate L from fomula\n",
    "    L = l_model.l_star(k)\n",
    "    # ii. objective function (to minimize) \n",
    "    def objective(x):\n",
    "        return -(k*(x**(1-par.eta))-par.w*x)\n",
    "    # o. objective function \n",
    "    obj = lambda x: objective(x)\n",
    "\n",
    "    # iii. optimize L\n",
    "    result = optimize.minimize(obj, guess,  method = 'Nelder-Mead', bounds=[(0.000001,np.inf)])\n",
    "    print(f'For kappa = {k}')\n",
    "    print(f'Estimated L = {result.x[0].round(2)}')\n",
    "    print(f'Calculated L = {L}')"
   ]
  },
  {
   "attachments": {},
   "cell_type": "markdown",
   "metadata": {},
   "source": [
    "As expected is the calculated value and estimated value for $\\ell_{t}$ the same. This means that we can verify that the given equation maximize utility.\n",
    "It is also posible to confirm this analytical."
   ]
  },
  {
   "attachments": {},
   "cell_type": "markdown",
   "metadata": {},
   "source": [
    "We now consider a *dynamic* version of the model.\n",
    "\n",
    "* The demand-shock is a so-called AR(1) in logs, \n",
    "\n",
    "$$\n",
    "\\log \\kappa_{t} = \\rho \\log \\kappa_{t-1} + \\epsilon_{t},\\,\\,\\, \\epsilon_{t+1} \\sim \\mathcal{N}(-0.5\\sigma_{\\epsilon}^2,\\sigma_{\\epsilon})\n",
    "$$\n",
    "\n",
    "* Any hiring or firing implies a fixed adjustment cost, $\\iota > 0 $.\n",
    "* Future profits are discounted with a monthly factor of $R \\in (0,1)$.\n",
    "\n",
    "The initial demand shock is $\\kappa_{-1} = 1$ and the planning horizon is 10 years, i.e. 120 months so $t \\in \\{0,1,2,\\dots,119\\}$. Initially you don't have any employees, $\\ell_{-1}=0$"
   ]
  },
  {
   "attachments": {},
   "cell_type": "markdown",
   "metadata": {},
   "source": [
    "\n",
    "The *ex post* value of the salon is *conditional* on the shock series is:\n",
    "\n",
    "$$\n",
    "h(\\epsilon_0,\\epsilon_1,\\dots,\\epsilon_{119}) = \\left[\\sum_{t=0}^{119}R^{-t}\\left[\\kappa_{t}\\ell_{t}^{1-\\eta}-w\\ell_{t}-\\boldsymbol{1}_{\\ell_{t}\\neq\\ell_{t-1}}\\iota\\right]\\right]\n",
    "$$\n",
    "\n",
    "The *ex ante* expected value of the salon can be approximated by\n",
    "\n",
    "$$\n",
    "H = \\mathbb{E}[h(\\epsilon_0,\\epsilon_1,\\dots,\\epsilon_{119})] \\approx \\frac{1}{K}\\sum_{k=0}^{K} h(\\epsilon_0^k,\\epsilon_1^k,\\dots,\\epsilon_{119}^k)\n",
    "$$\n",
    "\n",
    "where each $k\\in\\{0,1,\\dots,K-1\\}$ is a random shock series. Maximizing profitability means maximizing $H$.\n"
   ]
  },
  {
   "attachments": {},
   "cell_type": "markdown",
   "metadata": {},
   "source": [
    "Baseline parameters are: \n",
    "\n",
    "- $\\rho = 0.90$\n",
    "- $\\iota = 0.01$\n",
    "- $\\sigma_{\\epsilon} = 0.10$\n",
    "- $R = \\left(1+0.01\\right)^{1/12}$"
   ]
  },
  {
   "attachments": {},
   "cell_type": "markdown",
   "metadata": {},
   "source": [
    "**Question 2:** Calculate $H$ if the policy  $\\ell_{t}=\\left(\\frac{(1-\\eta)\\kappa_{t}}{w}\\right)^{\\frac{1}{\\eta}}$ from question 1 is followed. Choose $K$ so the approximation is good enough to not affect your results substantially."
   ]
  },
  {
   "attachments": {},
   "cell_type": "markdown",
   "metadata": {},
   "source": [
    "We make a function in our class which follows the instruction of the model above.\n",
    "We choose a K = 100, as we see a seemingly steady value for H as this number as well as a acceptable running time for the code."
   ]
  },
  {
   "cell_type": "code",
   "execution_count": 412,
   "metadata": {},
   "outputs": [
    {
     "data": {
      "text/plain": [
       "26.906014106236988"
      ]
     },
     "execution_count": 412,
     "metadata": {},
     "output_type": "execute_result"
    }
   ],
   "source": [
    "# a. run function to calculate H\n",
    "l_model.H(out=1)"
   ]
  },
  {
   "attachments": {},
   "cell_type": "markdown",
   "metadata": {},
   "source": [
    "Given the policy function from Question 1, the expected value of the salon is equal to 26.9."
   ]
  },
  {
   "attachments": {},
   "cell_type": "markdown",
   "metadata": {},
   "source": [
    "Next, we consider policies on the form:\n",
    "\n",
    "$$\n",
    "\n",
    "\\ell_{t}=\\begin{cases}\n",
    "\\ell_t^{\\ast}  & \\text{if }\\left|\\ell_{t-1}-\\ell_t^{\\ast} \\right|>\\Delta\\\\\n",
    "\\ell_{t-1} & \\text{else }\n",
    "\\end{cases}\n",
    "\\\\\n",
    "\\text{where}\\,\\,\\ell_t^{\\ast} = \\left(\\frac{(1-\\eta)\\kappa_{t}}{w}\\right)^{\\frac{1}{\\eta}} \\\\\n",
    "\n",
    "$$\n",
    "With $\\Delta \\geq 0$ and $\\Delta = 0$ being the previous policy.\n"
   ]
  },
  {
   "attachments": {},
   "cell_type": "markdown",
   "metadata": {},
   "source": [
    "\n",
    "**Question 3:** Calculate $H$ if the policy above was followed with $\\Delta = 0.05$. Does it improve profitability?"
   ]
  },
  {
   "cell_type": "code",
   "execution_count": 413,
   "metadata": {},
   "outputs": [
    {
     "data": {
      "text/plain": [
       "27.578419927210707"
      ]
     },
     "execution_count": 413,
     "metadata": {},
     "output_type": "execute_result"
    }
   ],
   "source": [
    "l_model.H(out=2)"
   ]
  },
  {
   "attachments": {},
   "cell_type": "markdown",
   "metadata": {},
   "source": [
    "The new policy increases the value to 27.6. This makes sense economically as it takes into account the adjustment cost. Therefore the salon avoid making small personel changes as the fixed cost is higher than the gain of making these small adjustment to the staff."
   ]
  },
  {
   "attachments": {},
   "cell_type": "markdown",
   "metadata": {},
   "source": [
    "**Question 4:** Find the optimal $\\Delta$ maximizing $H$. Illustrate your result."
   ]
  },
  {
   "cell_type": "code",
   "execution_count": 457,
   "metadata": {},
   "outputs": [
    {
     "name": "stdout",
     "output_type": "stream",
     "text": [
      "Optimal Delta = 0.08\n",
      "Maximum H = 27.646816824728468\n"
     ]
    }
   ],
   "source": [
    "def objective(x):\n",
    "        return -(l_model.H(out=2, Delta = x))\n",
    "    # o. objective function \n",
    "obj = lambda x: objective(x)\n",
    "guess = 0\n",
    "result = optimize.minimize(obj, guess, method='Nelder-Mead')\n",
    "\n",
    "print(f'Optimal Delta = {result.x[0].round(2)}')\n",
    "print(f'Maximum H = {l_model.H(out=2, Delta = result.x[0])}')\n"
   ]
  },
  {
   "attachments": {},
   "cell_type": "markdown",
   "metadata": {},
   "source": [
    "The optimal $\\Delta$ is equal to 0.08. The increase in value from the original $\\Delta$ is only around 0.09, but is however 0.8 larger that the original policy. This indicates that the new policy is usefull, but the interval for and more optimal $\\Delta$ is quite small. This is also depicted on the graph below, which show that the value H is seemingly pretty constant between 0.05 and 0.15, but that the value decreases drasticly as $\\Delta$ goes above 0.25. This makes sense as this will go above just taking the adjustments cost into account.\n"
   ]
  },
  {
   "cell_type": "code",
   "execution_count": 458,
   "metadata": {},
   "outputs": [
    {
     "data": {
      "image/png": "[encoded data removed]",
      "text/plain": [
       "<Figure size 400x400 with 1 Axes>"
      ]
     },
     "metadata": {},
     "output_type": "display_data"
    }
   ],
   "source": [
    "# a. make grid of H and Delta\n",
    "Delta_max = 0.5\n",
    "H_vec = np.empty(0)\n",
    "Delta_vec = np.linspace(0,Delta_max,51)\n",
    "for i in Delta_vec:\n",
    "    H_vec = np.append(H_vec,l_model.H(out=2, Delta = i))\n",
    "                \n",
    "\n",
    "# b. plot H values\n",
    "fig = plt.figure(figsize=(4,4))\n",
    "ax = fig.add_subplot(1,1,1)\n",
    "ax.plot(Delta_vec,H_vec)\n",
    "ax.scatter(result.x[0].round(2),l_model.H(out=2, Delta = result.x[0]))\n",
    "\n",
    "ax.set_xlabel('$\\Delta$')\n",
    "ax.set_ylabel('$H$')\n",
    "ax.set_xlim([0,Delta_max])\n",
    "ax.set_ylim([10,30]);"
   ]
  },
  {
   "attachments": {},
   "cell_type": "markdown",
   "metadata": {},
   "source": [
    "\n",
    "**Question 5:** Suggest an alternative policy you believe might improve profitability. Implement and test your policy.\n",
    "\n"
   ]
  },
  {
   "attachments": {},
   "cell_type": "markdown",
   "metadata": {},
   "source": [
    "We implement a policy which says that the salon should only make personel changes, if the absolut value of $\\epsilon_{t}$ is belov the variance $\\sigma_{\\epsilon}$. This is to make sure that the salon only take on the extra fixed cost of adjusting in periods with less demand shocks. As the demand shocks follows a AR(1) process the high shocks of $\\epsilon$ will follow into future periods, therefore it is the theory that it will be good to stay put."
   ]
  },
  {
   "attachments": {},
   "cell_type": "markdown",
   "metadata": {},
   "source": [
    "$$\n",
    "\n",
    "\\ell_{t}=\\begin{cases}\n",
    "\\ell_t^{\\ast}  & \\text{if }\\left|\\epsilon_{t} \\right|<\\sigma_{\\epsilon}\\\\\n",
    "\\ell_{t-1} & \\text{else }\n",
    "\\end{cases}\n",
    "\\\\\n",
    "\\text{where}\\,\\,\\ell_t^{\\ast} = \\left(\\frac{(1-\\eta)\\kappa_{t}}{w}\\right)^{\\frac{1}{\\eta}} \\\\\n",
    "\n",
    "$$"
   ]
  },
  {
   "cell_type": "code",
   "execution_count": 459,
   "metadata": {},
   "outputs": [
    {
     "data": {
      "text/plain": [
       "27.046153323360773"
      ]
     },
     "execution_count": 459,
     "metadata": {},
     "output_type": "execute_result"
    }
   ],
   "source": [
    "l_model.H(out=3)\n"
   ]
  },
  {
   "attachments": {},
   "cell_type": "markdown",
   "metadata": {},
   "source": [
    "As we implement the policy we see that the "
   ]
  },
  {
   "attachments": {},
   "cell_type": "markdown",
   "metadata": {},
   "source": [
    "## 3. <a id='toc3_'></a>[Problem 3: Global optimizer with refined multi-start](#toc0_)"
   ]
  },
  {
   "cell_type": "markdown",
   "metadata": {},
   "source": []
  },
  {
   "attachments": {},
   "cell_type": "markdown",
   "metadata": {},
   "source": [
    "We consider the Griewank function:\n",
    "\n",
    "$$ f(\\boldsymbol{x}) = \\sum^n_{i=1} \\frac{x^2_i}{4000}-\\prod^n_{i=1}\\cos\\left(\\frac{x_i}{\\sqrt{i}}\\right)+1$$\n",
    "\n",
    "The **global minimum** of this function is $f(0,0) = 0$ (remember: $\\cos(0)=1$).<br>\n",
    "But the function also have a lot of **local minima**."
   ]
  },
  {
   "cell_type": "code",
   "execution_count": 427,
   "metadata": {},
   "outputs": [],
   "source": [
    "def griewank(x):\n",
    "    return griewank_(x[0],x[1])\n",
    "    \n",
    "def griewank_(x1,x2):\n",
    "    A = x1**2/4000 + x2**2/4000\n",
    "    B = np.cos(x1/np.sqrt(1))*np.cos(x2/np.sqrt(2))\n",
    "    return A-B+1"
   ]
  },
  {
   "attachments": {},
   "cell_type": "markdown",
   "metadata": {},
   "source": [
    "A **refined global optimizer with multi-start** is:\n",
    "\n",
    "1. Choose *bounds* for $\\mathbf{x}$ and *tolerance* $\\tau > 0$.\n",
    "2. Choose number of *warm-up iterations*, $\\underline{K} > 0$ and *maximum number of iterations*, $K > \\underline{K}$.\n",
    "3. In each iteration for $k \\in \\{0,1,\\dots,K-1\\}$:\n",
    "\n",
    "    A. Draw random $\\mathbf{x}^k$ uniformly within chosen bounds.\n",
    "\n",
    "    B. If $k < \\underline{K}$ go to step E.\n",
    "\n",
    "    C. Calculate $\\chi^k = 0.50\\cdot\\frac{2}{1+\\exp((k-\\underline{K})/100)}$  \n",
    "\n",
    "    D. Set $\\mathbf{x}^{k0} = \\chi^k \\mathbf{x}^k + (1-\\chi^k)\\mathbf{x}^{\\ast} $\n",
    "\n",
    "    E. Run optimizer with $\\mathbf{x}^{k0}$ as initial guess and $\\mathbf{x}^{k\\ast}$ as result.\n",
    "\n",
    "    F. Set $\\mathbf{x}^{\\ast} = \\mathbf{x}^{k\\ast}$ if $k = 0$ or $f(\\mathbf{x}^{k\\ast}) < f(\\mathbf{x}^{\\ast})$\n",
    "\n",
    "    G. If $f(\\mathbf{x}^{\\ast}) < \\tau$ go to step 4.\n",
    "\n",
    "4. Return the result $\\mathbf{x}^{\\ast}$."
   ]
  },
  {
   "attachments": {},
   "cell_type": "markdown",
   "metadata": {},
   "source": [
    "As settings we choose:\n",
    "\n",
    "* $x_1,x_2 \\in  [-600,600]$\n",
    "* $\\tau = 10^{-8}$\n",
    "* $\\underline{K}=10$\n",
    "* $K=1000$\n",
    "\n",
    "The optimizer in Step 3.E is `BFGS` with a tolerance of $\\tau$."
   ]
  },
  {
   "attachments": {},
   "cell_type": "markdown",
   "metadata": {},
   "source": [
    "**Question 1:** Implement the refined global optimizer with multi-start. Illustrate how the effective initial guesses $\\mathbf{x}^{k0}$ vary with the iteration counter $k$."
   ]
  },
  {
   "cell_type": "code",
   "execution_count": 90,
   "metadata": {},
   "outputs": [
    {
     "name": "stdout",
     "output_type": "stream",
     "text": [
      "   0: x = ( -13.87,-196.23) -> converged at ( -12.56,-195.29) with f =   9.58367609\n",
      "   1: x = (-148.96,  38.44) -> converged at (-147.58,  39.95) with f =   5.84708245\n",
      "   2: x = (-518.27, 101.43) -> converged at (-518.10, 102.08) with f =  69.74904156\n",
      "   3: x = (-314.52,-407.09) -> converged at (-313.99,-408.33) with f =  66.38723699\n",
      "   4: x = (-417.46,-447.52) -> converged at (-417.61,-448.26) with f =  93.91192731\n",
      "   5: x = (-207.07, 232.98) -> converged at (-207.24, 230.80) with f =  24.07289447\n",
      "   6: x = (-169.24, 469.64) -> converged at (-169.56, 470.46) with f =  62.58264265\n",
      "   7: x = (-357.74,-467.28) -> converged at (-354.81,-466.02) with f =  85.84083442\n",
      "   8: x = (  33.07, 441.19) -> converged at (  34.54, 439.40) with f =  48.61567718\n",
      "   9: x = (-285.75,  -0.73) -> converged at (-285.74,  -4.44) with f =  20.42724970\n",
      "  10: x = (-116.65,  37.98) -> converged at (-116.18,  39.95) with f =   3.77550250\n",
      "  20: x = (-205.75,-224.48) -> converged at (  97.34,-173.10) with f =   9.86830466\n",
      "  40: x = ( 197.29,  28.92) -> converged at ( 197.82,  31.07) with f =  10.02977940\n",
      "  60: x = ( 167.13, 216.39) -> converged at ( 166.42, 217.48) with f =  18.76402204\n",
      "  80: x = ( 110.06,  31.67) -> converged at ( 109.90,  31.07) with f =   3.26261881\n",
      " 100: x = ( -75.07, -57.85) -> converged at ( -72.22, -57.70) with f =   2.13775057\n",
      " 150: x = (  58.82, -83.26) -> converged at (  59.66, -84.33) with f =   2.66996921\n",
      " 200: x = (  24.54,  16.36) -> converged at (  25.12,  17.75) with f =   0.23671270\n",
      " 250: x = (  29.70, -42.05) -> converged at (  28.26, -39.95) with f =   0.59907920\n",
      " 300: x = (  -7.38, -11.51) -> converged at (  -6.28,  -8.88) with f =   0.02958416\n",
      " 350: x = (  13.04,   3.91) -> converged at (  15.70,   4.44) with f =   0.06658407\n",
      " 400: x = (  -4.06, -12.35) -> converged at (  -3.14, -13.32) with f =   0.04683502\n",
      " 402: x = (  -1.27,   2.02) -> converged at (   0.00,   0.00) with f =   0.00000000\n",
      "\n",
      "best solution:\n",
      " x = (  -0.00,   0.00) -> f =   0.00000000\n"
     ]
    },
    {
     "data": {
      "text/plain": [
       "array([-7.90754627e-09,  2.68156919e-09])"
      ]
     },
     "execution_count": 90,
     "metadata": {},
     "output_type": "execute_result"
    }
   ],
   "source": [
    "# a. call the GoMs class \n",
    "goms = GoMs()\n",
    "\n",
    "# b. run the global optimization\n",
    "goms.global_opt()\n"
   ]
  },
  {
   "attachments": {},
   "cell_type": "markdown",
   "metadata": {},
   "source": [
    "The above show the that it is the starting which make the "
   ]
  },
  {
   "attachments": {},
   "cell_type": "markdown",
   "metadata": {},
   "source": [
    "**Question 2:** Is it a better idea to set $\\underline{K} = 100$? Is the convergence faster?"
   ]
  },
  {
   "cell_type": "code",
   "execution_count": 92,
   "metadata": {},
   "outputs": [
    {
     "name": "stdout",
     "output_type": "stream",
     "text": [
      "   0: x = ( -13.87,-196.23) -> converged at ( -12.56,-195.29) with f =   9.58367609\n",
      "   1: x = (-148.96,  38.44) -> converged at (-147.58,  39.95) with f =   5.84708245\n",
      "   2: x = (-518.27, 101.43) -> converged at (-518.10, 102.08) with f =  69.74904156\n",
      "   3: x = (-314.52,-407.09) -> converged at (-313.99,-408.33) with f =  66.38723699\n",
      "   4: x = (-417.46,-447.52) -> converged at (-417.61,-448.26) with f =  93.91192731\n",
      "   5: x = (-207.07, 232.98) -> converged at (-207.24, 230.80) with f =  24.07289447\n",
      "   6: x = (-169.24, 469.64) -> converged at (-169.56, 470.46) with f =  62.58264265\n",
      "   7: x = (-357.74,-467.28) -> converged at (-354.81,-466.02) with f =  85.84083442\n",
      "   8: x = (  33.07, 441.19) -> converged at (  34.54, 439.40) with f =  48.61567718\n",
      "   9: x = (-285.75,  -0.73) -> converged at (-285.74,  -4.44) with f =  20.42724970\n",
      "  10: x = ( -85.72,  36.00) -> converged at ( -87.92,  35.51) with f =   2.24898708\n",
      "  20: x = (-408.85,-438.23) -> converged at (-408.19,-434.95) with f =  89.02317558\n",
      "  40: x = ( 484.80,  85.93) -> converged at ( 483.56,  88.77) with f =  60.45938358\n",
      "  60: x = ( 468.57, 595.10) -> converged at ( 464.70, 488.20) with f = 113.66780303\n",
      "  80: x = ( 363.32, 122.25) -> converged at ( 364.24, 124.27) with f =  37.04966187\n",
      " 100: x = (-116.83, -79.25) -> converged at (-119.32, -79.89) with f =   5.15842144\n",
      " 150: x = ( 114.06,-153.39) -> converged at ( 113.04,-150.91) with f =   8.89507112\n",
      " 200: x = (  52.84,  40.31) -> converged at (  53.38,  39.95) with f =   1.11204203\n",
      " 250: x = (  80.34, -95.86) -> converged at (  81.64, -97.65) with f =   4.05318473\n",
      " 300: x = ( -20.90, -39.83) -> converged at ( -21.98, -39.95) with f =   0.52016184\n",
      " 350: x = (  40.67,  15.18) -> converged at (  40.82,  13.32) with f =   0.46115123\n",
      " 400: x = (   0.65, -23.34) -> converged at (   3.14, -22.19) with f =   0.12571297\n",
      " 415: x = (   0.72,  -3.06) -> converged at (   0.00,   0.00) with f =   0.00000000\n",
      "\n",
      "best solution:\n",
      " x = (  -0.00,  -0.00) -> f =   0.00000000\n"
     ]
    },
    {
     "data": {
      "text/plain": [
       "array([-7.61491021e-09, -7.81198389e-09])"
      ]
     },
     "execution_count": 92,
     "metadata": {},
     "output_type": "execute_result"
    }
   ],
   "source": [
    "# a. call the GoMs class to reset the parameters\n",
    "goms = GoMs()\n",
    "\n",
    "# b. set the parameters\n",
    "par = goms.par\n",
    "\n",
    "# c. set K_bar \n",
    "par.K_bar = 100\n",
    "\n",
    "# d. run the global optimization\n",
    "goms.global_opt()"
   ]
  }
 ],
 "metadata": {
  "kernelspec": {
   "display_name": "base",
   "language": "python",
   "name": "python3"
  },
  "language_info": {
   "codemirror_mode": {
    "name": "ipython",
    "version": 3
   },
   "file_extension": ".py",
   "mimetype": "text/x-python",
   "name": "python",
   "nbconvert_exporter": "python",
   "pygments_lexer": "ipython3",
   "version": "3.9.13"
  },
  "orig_nbformat": 4,
  "vscode": {
   "interpreter": {
    "hash": "32077810f91c82a01173fac87666ad4b066461331ac0e11d6466db2e366e3ab6"
   }
  }
 },
 "nbformat": 4,
 "nbformat_minor": 2
}
