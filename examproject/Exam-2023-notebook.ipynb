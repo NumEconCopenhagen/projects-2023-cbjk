{
 "cells": [
  {
   "attachments": {},
   "cell_type": "markdown",
   "metadata": {},
   "source": [
    "**Table of contents**<a id='toc0_'></a>    \n",
    "- 1. [Problem 1: Optimal taxation with government consumption](#toc1_)    \n",
    "- 2. [Problem 2: Labor adjustment costs](#toc2_)    \n",
    "- 3. [Problem 3: Global optimizer with refined multi-start](#toc3_)    \n",
    "\n",
    "<!-- vscode-jupyter-toc-config\n",
    "\tnumbering=true\n",
    "\tanchor=true\n",
    "\tflat=false\n",
    "\tminLevel=2\n",
    "\tmaxLevel=6\n",
    "\t/vscode-jupyter-toc-config -->\n",
    "<!-- THIS CELL WILL BE REPLACED ON TOC UPDATE. DO NOT WRITE YOUR TEXT IN THIS CELL -->"
   ]
  },
  {
   "cell_type": "code",
   "execution_count": 1,
   "metadata": {},
   "outputs": [],
   "source": [
    "# a. import packeges  \n",
    "import matplotlib.pyplot as plt\n",
    "import numpy as np\n",
    "from scipy import optimize\n",
    "import ipywidgets as widgets\n",
    "\n",
    "# b. autoreload modules when code is run\n",
    "%load_ext autoreload\n",
    "%autoreload 2\n",
    "\n",
    "# c. import the py-file \n",
    "from Problem1 import OptTax\n",
    "from Problem2 import labor\n",
    "from Problem3 import GoMs\n"
   ]
  },
  {
   "attachments": {},
   "cell_type": "markdown",
   "metadata": {},
   "source": [
    "## 1. <a id='toc1_'></a>[Problem 1: Optimal taxation with government consumption](#toc0_)"
   ]
  },
  {
   "attachments": {},
   "cell_type": "markdown",
   "metadata": {},
   "source": [
    "\n",
    "Consider a worker choosing hours of labor, $L\\in[0,24]$, to maximize utility: \n",
    "\n",
    "$$\n",
    "\\begin{align*}\n",
    "V(w,\\tau,G)&=\\max_{L\\in[0,24]}\\ln\\left(C^{\\alpha}G^{1-\\alpha}\\right)-\\nu\\frac{L^{2}}{2}\\\\&\\text{s.t.}\\\\&C=\\kappa+(1-\\tau)wL\n",
    "\\end{align*}\n",
    "$$\n",
    "\n",
    "where \n",
    "\n",
    "* $C$ is *private* consumption with weight $\\alpha\\in(0,1)$.\n",
    "* $\\kappa > 0$ is the *free private* consumption component.\n",
    "* $C = (1-\\tau)wL$ is the *costly private* consumption component.\n",
    "* $w > 0 $ is the real wage.\n",
    "* $\\tau \\in (0,1)$ is the labor-income tax rate.\n",
    "* $G > 0 $ is *government* consumption with weight $1-\\alpha$.\n",
    "* $\\nu > 0$ is the disutility of labor scaling factor"
   ]
  },
  {
   "attachments": {},
   "cell_type": "markdown",
   "metadata": {},
   "source": [
    "\n",
    "The baseline parameters are:\n",
    "\n",
    "$$\n",
    "\\begin{align*}\n",
    "\\alpha &= 0.5\\\\\n",
    "\\kappa &= 1.0\\\\\n",
    "\\nu &= \\frac{1}{2\\cdot16^2} \\\\\n",
    "w &= 1.0 \\\\ \n",
    "\\tau &= 0.30 \\\\\n",
    "\\end{align*}\n",
    "$$"
   ]
  },
  {
   "attachments": {},
   "cell_type": "markdown",
   "metadata": {},
   "source": [
    "**Question 1:** Verify that the optimal labor supply choice is $L^{\\star}(\\tilde{w}) =\\frac{-\\kappa+\\sqrt{\\kappa^{2}+4\\frac{\\alpha}{\\nu}\\tilde{w}^2}}{2\\tilde{w}}$, where $\\tilde{w} = (1-\\tau)w$, for $G\\in\\left\\{1.0 , 2.0\\right\\}$."
   ]
  },
  {
   "attachments": {},
   "cell_type": "markdown",
   "metadata": {},
   "source": [
    "As $L^{\\star}$ is not dependent on G, the value of the calculated $L^{\\star}$ using the provided formula, should be the same as the optimized value of $L^{\\star}$ for $G\\in\\left\\{1.0 , 2.0\\right\\}$.\n",
    "We use an optimizer to find the $L^{\\star}$ which maximize the utility for the given values of G"
   ]
  },
  {
   "cell_type": "code",
   "execution_count": 2,
   "metadata": {},
   "outputs": [
    {
     "name": "stdout",
     "output_type": "stream",
     "text": [
      "L* = 15.3017\n",
      "For G  = 1.0, L  = 1.0\n",
      "For G  = 2.0, L  = 0.75\n"
     ]
    }
   ],
   "source": [
    "# a. define the class\n",
    "opt = OptTax()\n",
    "\n",
    "# b. define par \n",
    "par = opt.par\n",
    "\n",
    "# c. optimal L*\n",
    "L_opt_choice = opt.L_opt()\n",
    "\n",
    "# d. solve for optimal L\n",
    "opt.L_solve(print_output = True)"
   ]
  },
  {
   "attachments": {},
   "cell_type": "markdown",
   "metadata": {},
   "source": [
    "As expected is the values of L that optimize the utility for $G\\in\\left\\{1.0 , 2.0\\right\\}$ the same as the calculated $L^{\\star}$"
   ]
  },
  {
   "attachments": {},
   "cell_type": "markdown",
   "metadata": {},
   "source": [
    "**Question 2:** Illustrate how $L^{\\star}(\\tilde{w})$ depends on $w$."
   ]
  },
  {
   "cell_type": "code",
   "execution_count": 3,
   "metadata": {},
   "outputs": [
    {
     "data": {
      "image/png": "[encoded data removed]",
      "text/plain": [
       "<Figure size 640x480 with 1 Axes>"
      ]
     },
     "metadata": {},
     "output_type": "display_data"
    }
   ],
   "source": [
    "# a. empty list for optimal L\n",
    "L_opt_sol = []\n",
    "\n",
    "# b. define points for omega_tilde\n",
    "ww = np.linspace(0.001,1,1000)\n",
    "\n",
    "# c. solve for optimal L pepending on omega_tilde\n",
    "for w in ww:\n",
    "    # i. opdate omega_tilde\n",
    "    par.omega_tilde = w\n",
    "    # ii. append optimal L\n",
    "    L_opt_sol.append(opt.L_opt())\n",
    "\n",
    "# d. plot optimal L* as a function of omega_tilde\n",
    "fig = plt.figure()\n",
    "ax = fig.add_subplot(1,1,1)\n",
    "ax.plot(ww, L_opt_sol)\n",
    "ax.set_xlabel('$\\\\tilde\\omega$')\n",
    "ax.set_ylabel('$L^*$');"
   ]
  },
  {
   "attachments": {},
   "cell_type": "markdown",
   "metadata": {},
   "source": [
    "The above plot show the relationship between $L^{\\star}(\\tilde{w})$ and $w$. It is seen that $L^*$ increases as $\\tilde\\omega$ increases. This makes economic sense as the workers will have a larger incentive to work as the real wage increases.  "
   ]
  },
  {
   "attachments": {},
   "cell_type": "markdown",
   "metadata": {},
   "source": [
    "\n",
    "We now consider a government, who chooses $\\tau$ and spend all of the taxes on government consumption so:\n",
    "\n",
    "$$\n",
    "G = \\tau w L^{\\star}((1-\\tau)w)\n",
    "$$\n",
    "\n",
    "**Question 3:** Plot the implied $L$, $G$ and worker utility for a grid of $\\tau$-values.\n"
   ]
  },
  {
   "cell_type": "code",
   "execution_count": 4,
   "metadata": {},
   "outputs": [
    {
     "data": {
      "application/vnd.jupyter.widget-view+json": {
       "model_id": "5832a51643ec4004a952f8b2de556cd2",
       "version_major": 2,
       "version_minor": 0
      },
      "text/plain": [
       "interactive(children=(ToggleButtons(description='Function:', options=('L*', 'G', 'Utility'), value='L*'), Outp…"
      ]
     },
     "metadata": {},
     "output_type": "display_data"
    }
   ],
   "source": [
    "# a. tau list of values close to 0 and up to 1\n",
    "tauu = np.linspace(0.001,0.999999,1000)\n",
    "\n",
    "# b. empty list for optimal L, G and utility\n",
    "L_opt_list = []\n",
    "G_list = []\n",
    "util_list = []\n",
    "\n",
    "# c. solve for optimal L, G and utility given tau\n",
    "for t in tauu:\n",
    "    # i. update tau\n",
    "    par.tau = t\n",
    "    # ii. update omega_tilde\n",
    "    par.omega_tilde = (1-par.tau)*par.omega\n",
    "    # iii. find optimal L and append \n",
    "    L_opt_list.append(opt.L_opt())\n",
    "    # iv. find optimal G and append\n",
    "    G_list.append(par.tau*par.omega*L_opt_list[-1])\n",
    "    # v. find utility and append\n",
    "    util_list.append(opt.V_equation(tau = par.tau, L = L_opt_list[-1], G = G_list[-1], out=1));\n",
    "\n",
    "# d. define the ToggleButtons widget\n",
    "options = ['L*', 'G', 'Utility']\n",
    "toggle_buttons = widgets.ToggleButtons(options=options, description='Function:', disabled=False)\n",
    "\n",
    "# e. function to update the plot\n",
    "def update_plot(dataset):\n",
    "    fig = plt.figure()\n",
    "    ax = fig.add_subplot(1,1,1)\n",
    "    # i. plot L \n",
    "    if dataset == 'L*':\n",
    "        ax.plot(tauu, L_opt_list)\n",
    "    # ii. plot G \n",
    "    elif dataset == 'G':\n",
    "        ax.plot(tauu, G_list)\n",
    "    # iii. plot utility\n",
    "    elif dataset == 'Utility':\n",
    "        ax.plot(tauu, util_list)\n",
    "    ax.set_xlabel('$\\\\tau$')\n",
    "\n",
    "# f. connect the ToggleButtons widget to the update function\n",
    "widgets.interactive(update_plot, dataset=toggle_buttons)"
   ]
  },
  {
   "attachments": {},
   "cell_type": "markdown",
   "metadata": {},
   "source": [
    "From the above interactive plot it is seen, as $\\tau$ increases $L^*$ decreases. This follows the reasoning from the real wage, as the tax increases the workers will have less diposible income to consume. It further appears that $G$ increases towards the peak around $\\tau$ = 0.85, and decreases rapidly towards $\\tau$ = 1. This could incicate that for values above $\\tau$ = 0.85, the workers will have so little incentive to work that $L^*$ decreases and therefore also the Goverments revenue. Lastly, a concave utility function appears with maximum around $\\tau$ = 0.5. This incicates that the workers utility is maximized when there is a balanced between their own consumption and goverment spending. \n"
   ]
  },
  {
   "attachments": {},
   "cell_type": "markdown",
   "metadata": {},
   "source": [
    "**Question 4:** Find the socially optimal tax rate $\\tau^{\\star}\\in(0,1)$ maximizing worker utility. Illustrate your result."
   ]
  },
  {
   "cell_type": "code",
   "execution_count": 5,
   "metadata": {},
   "outputs": [
    {
     "name": "stdout",
     "output_type": "stream",
     "text": [
      "Optimal tau: 0.53271484375\n",
      "Optimal V:   1.8695\n"
     ]
    },
    {
     "data": {
      "image/png": "[encoded data removed]",
      "text/plain": [
       "<Figure size 640x480 with 1 Axes>"
      ]
     },
     "metadata": {},
     "output_type": "display_data"
    }
   ],
   "source": [
    "# a. reset parameters\n",
    "opt = OptTax()\n",
    "\n",
    "# b. solve for optimal tau\n",
    "optimal_tau = opt.tau_solve()\n",
    "\n",
    "# c. find optimal V\n",
    "V = opt.V_equation(optimal_tau, out = 1)\n",
    "\n",
    "# d. plot the optimal tau with the utility \n",
    "fig = plt.figure()\n",
    "ax = fig.add_subplot(1,1,1)\n",
    "ax.plot(np.linspace(0.001,1,1000), util_list, label='Utility')\n",
    "ax.plot(optimal_tau, V, 'ro', label='Optimal tau')\n",
    "ax.legend()\n",
    "\n",
    "# e. print results\n",
    "print(f\"Optimal tau: {optimal_tau}\")\n",
    "print(f\"Optimal V:   {V.round(4)}\")\n"
   ]
  },
  {
   "attachments": {},
   "cell_type": "markdown",
   "metadata": {},
   "source": [
    "We find that the optimal $\\tau$ = 0.5327. This seems reasonable given the results from the previous question. The maximum point is illustrated on the above figure. "
   ]
  },
  {
   "attachments": {},
   "cell_type": "markdown",
   "metadata": {},
   "source": [
    "A more general preference formulation for the worker is:\n",
    "\n",
    "$$\n",
    "\\begin{align*}\n",
    "\\mathcal{V}(w,\\tau,G)&=\\max_{L\\in[0,24]}\\frac{\\left[ \\left( \\alpha C^{\\frac{\\sigma-1}{\\sigma}}+(1-\\alpha) G^{\\frac{\\sigma-1}{\\sigma}} \\right)^{\\frac{\\sigma}{1-\\sigma} }\\right]^{1-\\rho}-1}{1-\\rho}- \\nu\\frac{L^{1+\\varepsilon}}{1+\\varepsilon},\\,\\,\\,\\varepsilon,\\rho,\\sigma>0,\\,\\,\\,\\rho,\\sigma\\neq1\\\\&\\text{s.t.}\\\\&C=\\kappa+(1-\\tau)wL\n",
    "\\end{align*}    \n",
    "$$\n",
    "\n",
    "Optimal labor supply is now $L^{\\star}(\\tilde{w},G)$."
   ]
  },
  {
   "attachments": {},
   "cell_type": "markdown",
   "metadata": {},
   "source": [
    "Questions 5 and 6 must be answered with the general formulation, and for 2 different set of parameters:\n",
    "\n",
    "- Set 1:  $\\sigma = 1.001$, $\\rho = 1.001$ and $\\varepsilon = 1.0$.\n",
    "- Set 2:  $\\sigma = 1.5$, $\\rho = 1.5$ and $\\varepsilon = 1.0 $."
   ]
  },
  {
   "attachments": {},
   "cell_type": "markdown",
   "metadata": {},
   "source": [
    "**Question 5:** Find the $G$ that solves $G = \\tau w L^{\\star}((1-\\tau)w,G)$ using the $\\tau$ found in question 4.\n",
    "\n",
    "*Hint: First write code that solves the worker problem for given values of $G$ and $\\tau$. Then find the correct G based on this.*"
   ]
  },
  {
   "attachments": {},
   "cell_type": "markdown",
   "metadata": {},
   "source": [
    "We create a function which loop over different values of G until the equation for G is fulfilled, while maximizing the worker problem."
   ]
  },
  {
   "cell_type": "code",
   "execution_count": 6,
   "metadata": {},
   "outputs": [
    {
     "name": "stdout",
     "output_type": "stream",
     "text": [
      "trial value of G = 7.95\n",
      "G = 7.96\n",
      " L = 14.95\n",
      " V = 1.86\n",
      " tau = 0.53\n"
     ]
    }
   ],
   "source": [
    "# a. reset class\n",
    "opt = OptTax()\n",
    "\n",
    "# b. find G\n",
    "opt.G_loop(optimal_tau, out=1)"
   ]
  },
  {
   "cell_type": "code",
   "execution_count": 7,
   "metadata": {},
   "outputs": [
    {
     "name": "stdout",
     "output_type": "stream",
     "text": [
      "trial value of G = 3.38\n",
      "G = 3.4\n",
      " L = 6.38\n",
      " V = 0.88\n",
      " tau = 0.53\n"
     ]
    }
   ],
   "source": [
    "# a. reset parameters\n",
    "opt = OptTax()\n",
    "par = opt.par\n",
    "par.sigma = 1.5\n",
    "par.rho = 1.5\n",
    "par.epsilon = 1.5\n",
    "\n",
    "# b. find G\n",
    "opt.G_loop(optimal_tau, out=1)\n"
   ]
  },
  {
   "attachments": {},
   "cell_type": "markdown",
   "metadata": {},
   "source": [
    "In the first case the value of G, which satisfy the equation is $G = 7.96$, in the second case the value is $G = 3.4$"
   ]
  },
  {
   "attachments": {},
   "cell_type": "markdown",
   "metadata": {},
   "source": [
    "**Question 6:** Find the socially optimal tax rate, $\\tau^{\\star}$, maximizing worker utility, while keeping $G = \\tau w L^{\\star}((1-\\tau)w,G)$."
   ]
  },
  {
   "attachments": {},
   "cell_type": "markdown",
   "metadata": {},
   "source": [
    "We find the socially optimal tax rate, $\\tau^{\\star}$, by using our solution for G from before and loop through values of $\\tau$ until we find the optimal. "
   ]
  },
  {
   "cell_type": "markdown",
   "metadata": {},
   "source": []
  },
  {
   "cell_type": "code",
   "execution_count": 8,
   "metadata": {},
   "outputs": [
    {
     "name": "stdout",
     "output_type": "stream",
     "text": [
      "trial value of G = 7.77\n",
      "G = 7.79\n",
      " L = 14.98\n",
      " V = 1.86\n",
      " tau = 0.52\n"
     ]
    }
   ],
   "source": [
    "# a. reset parameters\n",
    "opt = OptTax()\n",
    "par = opt.par\n",
    "\n",
    "# a. calculate optimal tau\n",
    "opt.tau_loop()"
   ]
  },
  {
   "cell_type": "code",
   "execution_count": 9,
   "metadata": {},
   "outputs": [
    {
     "name": "stdout",
     "output_type": "stream",
     "text": [
      "trial value of G = 3.17\n",
      "G = 3.18\n",
      " L = 6.49\n",
      " V = 0.88\n",
      " tau = 0.49\n"
     ]
    }
   ],
   "source": [
    "# a. reset parameters\n",
    "opt = OptTax()\n",
    "par = opt.par\n",
    "par.sigma = 1.5\n",
    "par.rho = 1.5\n",
    "par.epsilon = 1.5\n",
    "\n",
    "# b. calculate optimal tau\n",
    "opt.tau_loop()\n"
   ]
  },
  {
   "attachments": {},
   "cell_type": "markdown",
   "metadata": {},
   "source": [
    "This leads us to two very similar values of $\\tau^{\\star}$. In the first case it is $\\tau^{\\star} = 0.52$, and in the second $\\tau^{\\star} = 0.49$\n"
   ]
  },
  {
   "attachments": {},
   "cell_type": "markdown",
   "metadata": {},
   "source": [
    "## 2. <a id='toc2_'></a>[Problem 2: Labor adjustment costs](#toc0_)"
   ]
  },
  {
   "attachments": {},
   "cell_type": "markdown",
   "metadata": {},
   "source": [
    "You own a hair salon. You employ hairdressers, $\\ell_t$, to produce haircuts, $y_t = \\ell_t$.\n",
    "\n",
    "The wage for each haridresser is $w$.\n",
    "\n",
    "The demand for haircuts implies that the price of haircuts you can charge is $p_t = \\kappa_t y_t^{-\\eta}$, where $\\kappa_t$ is a demand-shock and $\\eta \\in (0,1)$ measures the elasticity of demand.\n",
    "\n",
    "Profits are:\n",
    "\n",
    "$$\n",
    "\\Pi_t = p_t y_t - w \\ell_t = \\kappa_t \\ell_t^{1-\\eta} - w \\ell_t\n",
    "$$"
   ]
  },
  {
   "attachments": {},
   "cell_type": "markdown",
   "metadata": {},
   "source": [
    "Baseline parameters are:\n",
    "- $\\eta = 0.5$\n",
    "- $w = 1.0$"
   ]
  },
  {
   "attachments": {},
   "cell_type": "markdown",
   "metadata": {},
   "source": [
    "**Question 1:** Verify numerically that $\\ell_{t}=\\left(\\frac{(1-\\eta)\\kappa_{t}}{w}\\right)^{\\frac{1}{\\eta}}$ maximises profits, for $\\kappa\\in\\left\\{1.0 , 2.0\\right\\}$."
   ]
  },
  {
   "cell_type": "code",
   "execution_count": 10,
   "metadata": {},
   "outputs": [],
   "source": [
    "# a. Load in class\n",
    "l_model = labor()"
   ]
  },
  {
   "attachments": {},
   "cell_type": "markdown",
   "metadata": {},
   "source": [
    "We use the given equation to calculate the value   of the optimal $\\ell_{t}$ for the 2 values of $\\kappa$.\n",
    "Afterwards we use an optimizer to find the values $\\ell_{t}$ which maximizes the given utility function numerically. We then compare the two results."
   ]
  },
  {
   "cell_type": "code",
   "execution_count": 11,
   "metadata": {},
   "outputs": [
    {
     "name": "stdout",
     "output_type": "stream",
     "text": [
      "For kappa = 1.0\n",
      "Estimated L = 0.25\n",
      "Calculated L = 0.25\n",
      "For kappa = 2.0\n",
      "Estimated L = 1.0\n",
      "Calculated L = 1.0\n"
     ]
    }
   ],
   "source": [
    "# a. create starting values\n",
    "k_vec = np.linspace(1,2,2)\n",
    "guess = 1\n",
    "par = l_model.par\n",
    "# b. loop through values of kappa\n",
    "for k in k_vec: \n",
    "    # i. caluclate L from fomula\n",
    "    L = l_model.l_star(k)\n",
    "    # ii. objective function (to minimize) \n",
    "    def objective(x):\n",
    "        return -(k*(x**(1-par.eta))-par.w*x)\n",
    "    # o. objective function \n",
    "    obj = lambda x: objective(x)\n",
    "\n",
    "    # iii. optimize L\n",
    "    result = optimize.minimize(obj, guess,  method = 'Nelder-Mead', bounds=[(0.000001,np.inf)])\n",
    "    print(f'For kappa = {k}')\n",
    "    print(f'Estimated L = {result.x[0].round(2)}')\n",
    "    print(f'Calculated L = {L}')"
   ]
  },
  {
   "attachments": {},
   "cell_type": "markdown",
   "metadata": {},
   "source": [
    "As expected is the calculated value and estimated value for $\\ell_{t}$ the same. This means that we can verify that the given equation maximize utility.\n",
    "It is also posible to confirm this analytical."
   ]
  },
  {
   "attachments": {},
   "cell_type": "markdown",
   "metadata": {},
   "source": [
    "We now consider a *dynamic* version of the model.\n",
    "\n",
    "* The demand-shock is a so-called AR(1) in logs, \n",
    "\n",
    "$$\n",
    "\\log \\kappa_{t} = \\rho \\log \\kappa_{t-1} + \\epsilon_{t},\\,\\,\\, \\epsilon_{t+1} \\sim \\mathcal{N}(-0.5\\sigma_{\\epsilon}^2,\\sigma_{\\epsilon})\n",
    "$$\n",
    "\n",
    "* Any hiring or firing implies a fixed adjustment cost, $\\iota > 0 $.\n",
    "* Future profits are discounted with a monthly factor of $R \\in (0,1)$.\n",
    "\n",
    "The initial demand shock is $\\kappa_{-1} = 1$ and the planning horizon is 10 years, i.e. 120 months so $t \\in \\{0,1,2,\\dots,119\\}$. Initially you don't have any employees, $\\ell_{-1}=0$"
   ]
  },
  {
   "attachments": {},
   "cell_type": "markdown",
   "metadata": {},
   "source": [
    "\n",
    "The *ex post* value of the salon is *conditional* on the shock series is:\n",
    "\n",
    "$$\n",
    "h(\\epsilon_0,\\epsilon_1,\\dots,\\epsilon_{119}) = \\left[\\sum_{t=0}^{119}R^{-t}\\left[\\kappa_{t}\\ell_{t}^{1-\\eta}-w\\ell_{t}-\\boldsymbol{1}_{\\ell_{t}\\neq\\ell_{t-1}}\\iota\\right]\\right]\n",
    "$$\n",
    "\n",
    "The *ex ante* expected value of the salon can be approximated by\n",
    "\n",
    "$$\n",
    "H = \\mathbb{E}[h(\\epsilon_0,\\epsilon_1,\\dots,\\epsilon_{119})] \\approx \\frac{1}{K}\\sum_{k=0}^{K} h(\\epsilon_0^k,\\epsilon_1^k,\\dots,\\epsilon_{119}^k)\n",
    "$$\n",
    "\n",
    "where each $k\\in\\{0,1,\\dots,K-1\\}$ is a random shock series. Maximizing profitability means maximizing $H$.\n"
   ]
  },
  {
   "attachments": {},
   "cell_type": "markdown",
   "metadata": {},
   "source": [
    "Baseline parameters are: \n",
    "\n",
    "- $\\rho = 0.90$\n",
    "- $\\iota = 0.01$\n",
    "- $\\sigma_{\\epsilon} = 0.10$\n",
    "- $R = \\left(1+0.01\\right)^{1/12}$"
   ]
  },
  {
   "attachments": {},
   "cell_type": "markdown",
   "metadata": {},
   "source": [
    "**Question 2:** Calculate $H$ if the policy  $\\ell_{t}=\\left(\\frac{(1-\\eta)\\kappa_{t}}{w}\\right)^{\\frac{1}{\\eta}}$ from question 1 is followed. Choose $K$ so the approximation is good enough to not affect your results substantially."
   ]
  },
  {
   "attachments": {},
   "cell_type": "markdown",
   "metadata": {},
   "source": [
    "We make a function in our class which follows the instruction of the model above.\n",
    "We choose a K = 100, as we see a seemingly steady value for H as this number as well as a acceptable running time for the code."
   ]
  },
  {
   "cell_type": "code",
   "execution_count": 12,
   "metadata": {},
   "outputs": [
    {
     "name": "stdout",
     "output_type": "stream",
     "text": [
      "For policy 1: H = 26.906\n"
     ]
    }
   ],
   "source": [
    "# a. run function to calculate H\n",
    "l_model.H(out=1, print_out=1)\n"
   ]
  },
  {
   "attachments": {},
   "cell_type": "markdown",
   "metadata": {},
   "source": [
    "Given the policy function from Question 1, the expected value of the salon is equal to 26.9."
   ]
  },
  {
   "attachments": {},
   "cell_type": "markdown",
   "metadata": {},
   "source": [
    "Next, we consider policies on the form:\n",
    "\n",
    "$$\n",
    "\n",
    "\\ell_{t}=\\begin{cases}\n",
    "\\ell_t^{\\ast}  & \\text{if }\\left|\\ell_{t-1}-\\ell_t^{\\ast} \\right|>\\Delta\\\\\n",
    "\\ell_{t-1} & \\text{else }\n",
    "\\end{cases}\n",
    "\\\\\n",
    "\\text{where}\\,\\,\\ell_t^{\\ast} = \\left(\\frac{(1-\\eta)\\kappa_{t}}{w}\\right)^{\\frac{1}{\\eta}} \\\\\n",
    "\n",
    "$$\n",
    "With $\\Delta \\geq 0$ and $\\Delta = 0$ being the previous policy.\n"
   ]
  },
  {
   "attachments": {},
   "cell_type": "markdown",
   "metadata": {},
   "source": [
    "\n",
    "**Question 3:** Calculate $H$ if the policy above was followed with $\\Delta = 0.05$. Does it improve profitability?"
   ]
  },
  {
   "cell_type": "code",
   "execution_count": 13,
   "metadata": {},
   "outputs": [
    {
     "name": "stdout",
     "output_type": "stream",
     "text": [
      "For policy 2: H = 27.5784\n"
     ]
    }
   ],
   "source": [
    "# a. calculate H for policy 2\n",
    "l_model.H(out=2, print_out=1)"
   ]
  },
  {
   "attachments": {},
   "cell_type": "markdown",
   "metadata": {},
   "source": [
    "The new policy increases the value to 27.6. This makes sense economically as it takes into account the adjustment cost. Therefore the salon avoid making small personel changes as the fixed cost is higher than the gain of making these small adjustment to the staff."
   ]
  },
  {
   "attachments": {},
   "cell_type": "markdown",
   "metadata": {},
   "source": [
    "**Question 4:** Find the optimal $\\Delta$ maximizing $H$. Illustrate your result."
   ]
  },
  {
   "cell_type": "code",
   "execution_count": 14,
   "metadata": {},
   "outputs": [
    {
     "name": "stdout",
     "output_type": "stream",
     "text": [
      "Optimal Delta = 0.08\n",
      "Maximum H = 27.6468\n"
     ]
    }
   ],
   "source": [
    "# a. define objective function to optimize\n",
    "def objective(x):\n",
    "        return -(l_model.H(out=2, Delta = x))\n",
    "\n",
    "    # o. objective function \n",
    "obj = lambda x: objective(x)\n",
    "\n",
    "# i. initial guess\n",
    "guess = 0\n",
    "\n",
    "# b. maximize\n",
    "result = optimize.minimize(obj, guess, method='Nelder-Mead')\n",
    "\n",
    "#c. print results\n",
    "print(f'Optimal Delta = {result.x[0].round(2)}')\n",
    "print(f'Maximum H = {(l_model.H(out=2, Delta = result.x[0]).round(4))}')\n"
   ]
  },
  {
   "attachments": {},
   "cell_type": "markdown",
   "metadata": {},
   "source": [
    "The optimal $\\Delta$ is equal to 0.08. The increase in value from the original $\\Delta$ is only around 0.09, but is however 0.8 larger that the original policy. This indicates that the new policy is usefull, but the interval for and more optimal $\\Delta$ is quite small. This is also depicted on the graph below, which show that the value H is seemingly pretty constant between 0.05 and 0.15, but that the value decreases drasticly as $\\Delta$ goes above 0.25. This makes sense as this will go above just taking the adjustments cost into account.\n"
   ]
  },
  {
   "cell_type": "code",
   "execution_count": 15,
   "metadata": {},
   "outputs": [
    {
     "data": {
      "image/png": "[encoded data removed]",
      "text/plain": [
       "<Figure size 400x400 with 1 Axes>"
      ]
     },
     "metadata": {},
     "output_type": "display_data"
    }
   ],
   "source": [
    "# a. make grid of H and Delta\n",
    "Delta_max = 0.5\n",
    "H_vec = np.empty(0)\n",
    "Delta_vec = np.linspace(0,Delta_max,51)\n",
    "for i in Delta_vec:\n",
    "    H_vec = np.append(H_vec,l_model.H(out=2, Delta = i))\n",
    "                \n",
    "\n",
    "# b. plot H values\n",
    "fig = plt.figure(figsize=(4,4))\n",
    "ax = fig.add_subplot(1,1,1)\n",
    "ax.plot(Delta_vec,H_vec)\n",
    "ax.scatter(result.x[0].round(2),l_model.H(out=2, Delta = result.x[0]))\n",
    "\n",
    "ax.set_xlabel('$\\Delta$')\n",
    "ax.set_ylabel('$H$')\n",
    "ax.set_xlim([0,Delta_max])\n",
    "ax.set_ylim([10,30]);"
   ]
  },
  {
   "attachments": {},
   "cell_type": "markdown",
   "metadata": {},
   "source": [
    "\n",
    "**Question 5:** Suggest an alternative policy you believe might improve profitability. Implement and test your policy.\n",
    "\n"
   ]
  },
  {
   "attachments": {},
   "cell_type": "markdown",
   "metadata": {},
   "source": [
    "We implement a policy which says that the salon should only make personel changes, if the absolut value of $\\epsilon_{t}$ is belov the variance $\\sigma_{\\epsilon}$. This is to make sure that the salon only take on the extra fixed cost of adjusting in periods with less demand shocks. As the demand shocks follows a AR(1) process the high shocks of $\\epsilon$ will follow into future periods, therefore it is the theory that it will be good to stay put."
   ]
  },
  {
   "attachments": {},
   "cell_type": "markdown",
   "metadata": {},
   "source": [
    "$$\n",
    "\n",
    "\\ell_{t}=\\begin{cases}\n",
    "\\ell_t^{\\ast}  & \\text{if }\\left|\\epsilon_{t} \\right|<\\sigma_{\\epsilon}\\\\\n",
    "\\ell_{t-1} & \\text{else }\n",
    "\\end{cases}\n",
    "\\\\\n",
    "\\text{where}\\,\\,\\ell_t^{\\ast} = \\left(\\frac{(1-\\eta)\\kappa_{t}}{w}\\right)^{\\frac{1}{\\eta}} \\\\\n",
    "\n",
    "$$"
   ]
  },
  {
   "cell_type": "code",
   "execution_count": 16,
   "metadata": {},
   "outputs": [
    {
     "name": "stdout",
     "output_type": "stream",
     "text": [
      "For policy 3: H = 27.0462\n"
     ]
    }
   ],
   "source": [
    "# a. calculate H for policy 3\n",
    "l_model.H(out=3, print_out=1)"
   ]
  },
  {
   "attachments": {},
   "cell_type": "markdown",
   "metadata": {},
   "source": [
    "As we implement the policy we see that the Value H increases a tiny bit from the original policy, but is not better than the policy which was suggested. "
   ]
  },
  {
   "attachments": {},
   "cell_type": "markdown",
   "metadata": {},
   "source": [
    "## 3. <a id='toc3_'></a>[Problem 3: Global optimizer with refined multi-start](#toc0_)"
   ]
  },
  {
   "attachments": {},
   "cell_type": "markdown",
   "metadata": {},
   "source": [
    "We consider the Griewank function:\n",
    "\n",
    "$$ f(\\boldsymbol{x}) = \\sum^n_{i=1} \\frac{x^2_i}{4000}-\\prod^n_{i=1}\\cos\\left(\\frac{x_i}{\\sqrt{i}}\\right)+1$$\n",
    "\n",
    "The **global minimum** of this function is $f(0,0) = 0$ (remember: $\\cos(0)=1$).<br>\n",
    "But the function also have a lot of **local minima**."
   ]
  },
  {
   "cell_type": "code",
   "execution_count": 17,
   "metadata": {},
   "outputs": [],
   "source": [
    "def griewank(x):\n",
    "    return griewank_(x[0],x[1])\n",
    "    \n",
    "def griewank_(x1,x2):\n",
    "    A = x1**2/4000 + x2**2/4000\n",
    "    B = np.cos(x1/np.sqrt(1))*np.cos(x2/np.sqrt(2))\n",
    "    return A-B+1"
   ]
  },
  {
   "attachments": {},
   "cell_type": "markdown",
   "metadata": {},
   "source": [
    "A **refined global optimizer with multi-start** is:\n",
    "\n",
    "1. Choose *bounds* for $\\mathbf{x}$ and *tolerance* $\\tau > 0$.\n",
    "2. Choose number of *warm-up iterations*, $\\underline{K} > 0$ and *maximum number of iterations*, $K > \\underline{K}$.\n",
    "3. In each iteration for $k \\in \\{0,1,\\dots,K-1\\}$:\n",
    "\n",
    "    A. Draw random $\\mathbf{x}^k$ uniformly within chosen bounds.\n",
    "\n",
    "    B. If $k < \\underline{K}$ go to step E.\n",
    "\n",
    "    C. Calculate $\\chi^k = 0.50\\cdot\\frac{2}{1+\\exp((k-\\underline{K})/100)}$  \n",
    "\n",
    "    D. Set $\\mathbf{x}^{k0} = \\chi^k \\mathbf{x}^k + (1-\\chi^k)\\mathbf{x}^{\\ast} $\n",
    "\n",
    "    E. Run optimizer with $\\mathbf{x}^{k0}$ as initial guess and $\\mathbf{x}^{k\\ast}$ as result.\n",
    "\n",
    "    F. Set $\\mathbf{x}^{\\ast} = \\mathbf{x}^{k\\ast}$ if $k = 0$ or $f(\\mathbf{x}^{k\\ast}) < f(\\mathbf{x}^{\\ast})$\n",
    "\n",
    "    G. If $f(\\mathbf{x}^{\\ast}) < \\tau$ go to step 4.\n",
    "\n",
    "4. Return the result $\\mathbf{x}^{\\ast}$."
   ]
  },
  {
   "attachments": {},
   "cell_type": "markdown",
   "metadata": {},
   "source": [
    "As settings we choose:\n",
    "\n",
    "* $x_1,x_2 \\in  [-600,600]$\n",
    "* $\\tau = 10^{-8}$\n",
    "* $\\underline{K}=10$\n",
    "* $K=1000$\n",
    "\n",
    "The optimizer in Step 3.E is `BFGS` with a tolerance of $\\tau$."
   ]
  },
  {
   "attachments": {},
   "cell_type": "markdown",
   "metadata": {},
   "source": [
    "**Question 1:** Implement the refined global optimizer with multi-start. Illustrate how the effective initial guesses $\\mathbf{x}^{k0}$ vary with the iteration counter $k$."
   ]
  },
  {
   "cell_type": "code",
   "execution_count": 18,
   "metadata": {},
   "outputs": [
    {
     "name": "stdout",
     "output_type": "stream",
     "text": [
      "k =    0: x_k0 = ( -13.87,-196.23) -> converged to ( -12.56,-195.29) with f =   9.58367609\n",
      "k =    1: x_k0 = (-148.96,  38.44) -> converged to (-147.58,  39.95) with f =   5.84708245\n",
      "k =    2: x_k0 = (-518.27, 101.43) -> converged to (-518.10, 102.08) with f =  69.74904156\n",
      "k =    3: x_k0 = (-314.52,-407.09) -> converged to (-313.99,-408.33) with f =  66.38723699\n",
      "k =    4: x_k0 = (-417.46,-447.52) -> converged to (-417.61,-448.26) with f =  93.91192731\n",
      "k =    5: x_k0 = (-207.07, 232.98) -> converged to (-207.24, 230.80) with f =  24.07289447\n",
      "k =    6: x_k0 = (-169.24, 469.64) -> converged to (-169.56, 470.46) with f =  62.58264265\n",
      "k =    7: x_k0 = (-357.74,-467.28) -> converged to (-354.81,-466.02) with f =  85.84083442\n",
      "k =    8: x_k0 = (  33.07, 441.19) -> converged to (  34.54, 439.40) with f =  48.61567718\n",
      "k =    9: x_k0 = (-285.75,  -0.73) -> converged to (-285.74,  -4.44) with f =  20.42724970\n",
      "k =   10: x_k0 = (-116.65,  37.98) -> converged to (-116.18,  39.95) with f =   3.77550250\n",
      "k =   20: x_k0 = (-205.75,-224.48) -> converged to (  97.34,-173.10) with f =   9.86830466\n",
      "k =   40: x_k0 = ( 197.29,  28.92) -> converged to ( 197.82,  31.07) with f =  10.02977940\n",
      "k =   60: x_k0 = ( 167.13, 216.39) -> converged to ( 166.42, 217.48) with f =  18.76402204\n",
      "k =   80: x_k0 = ( 110.06,  31.67) -> converged to ( 109.90,  31.07) with f =   3.26261881\n",
      "k =  100: x_k0 = ( -75.07, -57.85) -> converged to ( -72.22, -57.70) with f =   2.13775057\n",
      "k =  200: x_k0 = (  24.54,  16.36) -> converged to (  25.12,  17.75) with f =   0.23671270\n",
      "k =  300: x_k0 = (  -7.38, -11.51) -> converged to (  -6.28,  -8.88) with f =   0.02958416\n",
      "k =  400: x_k0 = (  -4.06, -12.35) -> converged to (  -3.14, -13.32) with f =   0.04683502\n",
      "k =  402: x_k0 = (  -1.27,   2.02) -> converged to (  -0.00,   0.00) with f =   0.00000000\n",
      "\n",
      "k = 402 found the best solution.\n",
      "\n",
      "Best solution:\n",
      " x_star = (  -0.00,   0.00) -> f =   0.00000000\n",
      "\n",
      "Best solution with 10 decimals:\n",
      " x_star = (-0.0000000079,0.0000000027) -> f =   0.00000000\n",
      "\n",
      "Elapsed time:    1.27 seconds\n"
     ]
    }
   ],
   "source": [
    "# a. call the GoMs class \n",
    "goms = GoMs()\n",
    "\n",
    "# b. run the global optimization\n",
    "goms.global_opt()\n"
   ]
  },
  {
   "attachments": {},
   "cell_type": "markdown",
   "metadata": {},
   "source": [
    "The above show that the model converges to alot of different local minima depending on the starting values which are chosen. The best solution finds the global minimum with starting values for $x_1$ and $x_2$ very close to the real value at (0,0). When this is the case, it can converge to the global minimum $f(0,0)=0$. We further see that the actual minimizing values for $x_1$ and $x_2$ is smaller than the tolerance, which makes the loop stop after 402 iterations. \n"
   ]
  },
  {
   "attachments": {},
   "cell_type": "markdown",
   "metadata": {},
   "source": [
    "**Question 2:** Is it a better idea to set $\\underline{K} = 100$? Is the convergence faster?"
   ]
  },
  {
   "cell_type": "code",
   "execution_count": 19,
   "metadata": {},
   "outputs": [
    {
     "name": "stdout",
     "output_type": "stream",
     "text": [
      "k =    0: x_k0 = ( -13.87,-196.23) -> converged to ( -12.56,-195.29) with f =   9.58367609\n",
      "k =    1: x_k0 = (-148.96,  38.44) -> converged to (-147.58,  39.95) with f =   5.84708245\n",
      "k =    2: x_k0 = (-518.27, 101.43) -> converged to (-518.10, 102.08) with f =  69.74904156\n",
      "k =    3: x_k0 = (-314.52,-407.09) -> converged to (-313.99,-408.33) with f =  66.38723699\n",
      "k =    4: x_k0 = (-417.46,-447.52) -> converged to (-417.61,-448.26) with f =  93.91192731\n",
      "k =    5: x_k0 = (-207.07, 232.98) -> converged to (-207.24, 230.80) with f =  24.07289447\n",
      "k =    6: x_k0 = (-169.24, 469.64) -> converged to (-169.56, 470.46) with f =  62.58264265\n",
      "k =    7: x_k0 = (-357.74,-467.28) -> converged to (-354.81,-466.02) with f =  85.84083442\n",
      "k =    8: x_k0 = (  33.07, 441.19) -> converged to (  34.54, 439.40) with f =  48.61567718\n",
      "k =    9: x_k0 = (-285.75,  -0.73) -> converged to (-285.74,  -4.44) with f =  20.42724970\n",
      "k =   10: x_k0 = ( -85.72,  36.00) -> converged to ( -87.92,  35.51) with f =   2.24898708\n",
      "k =   20: x_k0 = (-408.85,-438.23) -> converged to (-408.19,-434.95) with f =  89.02317558\n",
      "k =   40: x_k0 = ( 484.80,  85.93) -> converged to ( 483.56,  88.77) with f =  60.45938358\n",
      "k =   60: x_k0 = ( 468.57, 595.10) -> converged to ( 464.70, 488.20) with f = 113.66780303\n",
      "k =   80: x_k0 = ( 363.32, 122.25) -> converged to ( 364.24, 124.27) with f =  37.04966187\n",
      "k =  100: x_k0 = (-116.83, -79.25) -> converged to (-119.32, -79.89) with f =   5.15842144\n",
      "k =  200: x_k0 = (  52.84,  40.31) -> converged to (  53.38,  39.95) with f =   1.11204203\n",
      "k =  300: x_k0 = ( -20.90, -39.83) -> converged to ( -21.98, -39.95) with f =   0.52016184\n",
      "k =  400: x_k0 = (   0.65, -23.34) -> converged to (   3.14, -22.19) with f =   0.12571297\n",
      "k =  415: x_k0 = (   0.72,  -3.06) -> converged to (  -0.00,  -0.00) with f =   0.00000000\n",
      "\n",
      "k = 415 found the best solution.\n",
      "\n",
      "Best solution:\n",
      " x_star = (  -0.00,  -0.00) -> f =   0.00000000\n",
      "\n",
      "Best solution with 10 decimals:\n",
      " x_star = (-0.0000000076,-0.0000000078) -> f =   0.00000000\n",
      "\n",
      "Elapsed time:    1.33 seconds\n"
     ]
    }
   ],
   "source": [
    "# a. call the GoMs class to reset the parameters\n",
    "goms = GoMs()\n",
    "\n",
    "# b. set the parameters\n",
    "par = goms.par\n",
    "\n",
    "# c. set K_bar \n",
    "par.K_bar = 100\n",
    "\n",
    "# d. run the global optimization\n",
    "goms.global_opt()"
   ]
  },
  {
   "attachments": {},
   "cell_type": "markdown",
   "metadata": {},
   "source": [
    "We see that it take a bit more iterations to find the best solution. Further the time is close to the same as at the original value of $\\underline{K} = 10$. The time differs a little from time to time we run the cell, but in general the trend is that they converges around the same time. \n",
    "The conclusion must be that the value of $\\underline{K}$ does not make it converge faster. "
   ]
  }
 ],
 "metadata": {
  "kernelspec": {
   "display_name": "base",
   "language": "python",
   "name": "python3"
  },
  "language_info": {
   "codemirror_mode": {
    "name": "ipython",
    "version": 3
   },
   "file_extension": ".py",
   "mimetype": "text/x-python",
   "name": "python",
   "nbconvert_exporter": "python",
   "pygments_lexer": "ipython3",
   "version": "3.9.13"
  },
  "orig_nbformat": 4,
  "vscode": {
   "interpreter": {
    "hash": "32077810f91c82a01173fac87666ad4b066461331ac0e11d6466db2e366e3ab6"
   }
  }
 },
 "nbformat": 4,
 "nbformat_minor": 2
}
